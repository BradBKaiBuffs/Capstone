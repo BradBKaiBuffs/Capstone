{
  "nbformat": 4,
  "nbformat_minor": 0,
  "metadata": {
    "colab": {
      "provenance": [],
      "include_colab_link": true
    },
    "kernelspec": {
      "name": "python3",
      "display_name": "Python 3"
    }
  },
  "cells": [
    {
      "cell_type": "markdown",
      "metadata": {
        "id": "view-in-github",
        "colab_type": "text"
      },
      "source": [
        "<a href=\"https://colab.research.google.com/github/BradBKaiBuffs/Capstone/blob/main/Copy_of_CIDM6352_Homework_2_Instructions.ipynb\" target=\"_parent\"><img src=\"https://colab.research.google.com/assets/colab-badge.svg\" alt=\"Open In Colab\"/></a>"
      ]
    },
    {
      "cell_type": "markdown",
      "metadata": {
        "id": "lJURtoBh4mQu"
      },
      "source": [
        "<h1  align=\"center\">CIDM6351: Homework 2 Instructions. Importing and Cleaning Data</h1>\n",
        "\n",
        "* **Save a copy to your Google Drive and answer the questions on your copy**\n",
        "* **Change the share to \"Anyone with link\" so the professor can view your code**\n",
        "* **Submit the share link of your Colab Notebook to WTClass**\n",
        "* This assignment is open notes/Internet/Datacamp but you can only consult with a CIS tutors or the professor.\n",
        "- Students should complete this assignment **individually.** If you need help, contact a CIS tutor or the professor."
      ]
    },
    {
      "cell_type": "markdown",
      "source": [
        "### Scenario: You are a data engineer for a large ice cream manufacturing company. Company stake holders want to know which ice cream flavors to diversity into. You need to gather and prepare some data on the favorite types of ice cream. You find some survey data on this topic. You will import the data, perform some cleaning tasks, and create a simple bar chart of the most popular ice cream flavors and the percentage of adults who like those flavors. ###\n",
        "Original data comes from https://fox8.com/news/the-21-most-popular-ice-cream-flavors-in-america/"
      ],
      "metadata": {
        "id": "9aLy96WuuB1N"
      }
    },
    {
      "cell_type": "markdown",
      "source": [
        "###Data Dictionary: ###  \n",
        "Both data files have the following fields/columns.\n",
        "\n",
        "Ice_Cream_Flavor : <str> The name of the ice cream.  \n",
        "Like_It_Percentage : <str> The percetage of adults surveyed who like that particular ice cream flavor.  \n",
        "Favorite_Percentage : <str> The percentage of adults surveyed who say that flavor is their favorite.  "
      ],
      "metadata": {
        "id": "vYNljP3wu-0r"
      }
    },
    {
      "cell_type": "markdown",
      "metadata": {
        "id": "oHX6cXOpqYxS"
      },
      "source": [
        "# Question 1 (30%): Importing data with Pandas"
      ]
    },
    {
      "cell_type": "code",
      "metadata": {
        "id": "IRqyECpiq9kL"
      },
      "source": [
        "# Run this cell\n",
        "# Dr. Humpherys provides you the URLs to the data files you need.\n",
        "ice_cream_part_one_url = 'https://raw.githubusercontent.com/sean-humpherys/randomfilestorage/main/ice_cream_part_one.csv'\n",
        "ice_cream_part_two_url = 'https://raw.githubusercontent.com/sean-humpherys/randomfilestorage/main/ice_cream_part_two.json'"
      ],
      "execution_count": null,
      "outputs": []
    },
    {
      "cell_type": "markdown",
      "source": [
        "### Q1.1 (5%) Import the pandas library as pd"
      ],
      "metadata": {
        "id": "2zV5pjm-gpGy"
      }
    },
    {
      "cell_type": "code",
      "source": [
        "# --- put your answer below ---\n",
        "import pandas as pd"
      ],
      "metadata": {
        "id": "sqmbHp_ZgkZK"
      },
      "execution_count": null,
      "outputs": []
    },
    {
      "cell_type": "markdown",
      "metadata": {
        "id": "eGikJ1sS8kt3"
      },
      "source": [
        "### Q1.2  (5%) Load the data stored in ```ice_cream_part_one.csv``` into Pandas DataFrames. No need to print the data yet."
      ]
    },
    {
      "cell_type": "code",
      "metadata": {
        "id": "CNunFdHOrRIY"
      },
      "source": [
        "# --- put your answer below ---\n",
        "df = pd.read_csv('https://raw.githubusercontent.com/sean-humpherys/randomfilestorage/main/ice_cream_part_one.csv')"
      ],
      "execution_count": null,
      "outputs": []
    },
    {
      "cell_type": "markdown",
      "metadata": {
        "id": "EJ6zZrlJhqvK"
      },
      "source": [
        "### Q1.3  (5%) Load the data stored in ```ice_cream_part_two.json``` into Pandas DataFrames. No need to print the data yet."
      ]
    },
    {
      "cell_type": "code",
      "source": [
        "# --- put your answer below ---\n",
        "df2 = pd.read_json('https://raw.githubusercontent.com/sean-humpherys/randomfilestorage/main/ice_cream_part_two.json')"
      ],
      "metadata": {
        "id": "ZBFyykqyhzZS"
      },
      "execution_count": null,
      "outputs": []
    },
    {
      "cell_type": "markdown",
      "metadata": {
        "id": "BFj9lo7vsWXX"
      },
      "source": [
        "### 1.4  (5%) Print the information or head of both dataframes, respectively"
      ]
    },
    {
      "cell_type": "code",
      "source": [
        "# ---put your answer below--\n",
        "print(df.head())\n",
        "print(df2.head())"
      ],
      "metadata": {
        "id": "jGyiHjPChUcp",
        "colab": {
          "base_uri": "https://localhost:8080/"
        },
        "outputId": "557656c0-07cc-4574-c6e9-1e07b56617f3"
      },
      "execution_count": null,
      "outputs": [
        {
          "output_type": "stream",
          "name": "stdout",
          "text": [
            "  Ice_Cream_Flavor Like_It_Percentage Favorite_Percentage\n",
            "0            peach                22%                  1%\n",
            "1     butterscotch                16%                  1%\n",
            "2   chocolate chip                39%                  2%\n",
            "3        chocolate                51%                 10%\n",
            "4          vanilla                59%                 11%\n",
            "          Ice_Cream_Flavor Like_It_Percentage Favorite_Percentage\n",
            "0               strawberry                43%                  6%\n",
            "1  chocolate peanut butter                26%                  5%\n",
            "2             butter pecan                35%                  8%\n",
            "3        cookies and cream                43%                  7%\n",
            "4      mint chocolate chip                33%                  9%\n"
          ]
        }
      ]
    },
    {
      "cell_type": "markdown",
      "metadata": {
        "id": "8mBPUYmluWje"
      },
      "source": [
        "### 1.5  (5%) Combine the two dataframes into one panda dataframe called \"ice_cream\". ###\n",
        "If you need a hint, search on Google \"combine two pandas dataframes\", \"join two pandas dataframes\", or \"concatenate pandas dataframe\". Searching with the correct phrase is a useful data engineering technique."
      ]
    },
    {
      "cell_type": "code",
      "source": [
        "# ---put your answer below ---\n",
        "data = [df, df2]\n",
        "ice_cream = pd.concat(data)"
      ],
      "metadata": {
        "id": "AsN8yKvWh_ga"
      },
      "execution_count": null,
      "outputs": []
    },
    {
      "cell_type": "markdown",
      "source": [
        "### 1.6  (5%) Print the contents of the ice_cream dataframe. ###"
      ],
      "metadata": {
        "id": "s__qzS_XkHi2"
      }
    },
    {
      "cell_type": "code",
      "source": [
        "# ---put your answer below ---\n",
        "print(ice_cream)"
      ],
      "metadata": {
        "id": "_-la7OV1kdA2",
        "colab": {
          "base_uri": "https://localhost:8080/"
        },
        "outputId": "ad13292e-5c13-428b-c653-324a65b47520"
      },
      "execution_count": null,
      "outputs": [
        {
          "output_type": "stream",
          "name": "stdout",
          "text": [
            "               Ice_Cream_Flavor Like_It_Percentage Favorite_Percentage\n",
            "0                         peach                22%                  1%\n",
            "1                  butterscotch                16%                  1%\n",
            "2                chocolate chip                39%                  2%\n",
            "3                     chocolate                51%                 10%\n",
            "4                       vanilla                59%                 11%\n",
            "5                        coffee                23%                  5%\n",
            "6                       caramel                33%                  3%\n",
            "7                 peanut butter                21%                  2%\n",
            "8                    neopolitan                30%                  2%\n",
            "9                        cherry                23%                  2%\n",
            "10  chocolate chip cookie dough                34%                  6%\n",
            "11                birthday cake                20%                  2%\n",
            "12                    raspberry                18%                  1%\n",
            "13                  cake batter                15%                  1%\n",
            "14                   rocky road                29%                  4%\n",
            "15                    pistachio                23%                  4%\n",
            "16                     jalapeno                NaN                    \n",
            "0                    strawberry                43%                  6%\n",
            "1       chocolate peanut butter                26%                  5%\n",
            "2                  butter pecan                35%                  8%\n",
            "3             cookies and cream                43%                  7%\n",
            "4           mint chocolate chip                33%                  9%\n"
          ]
        }
      ]
    },
    {
      "cell_type": "markdown",
      "source": [
        "# Question Two. (50%) Clean the data in preparation for data analysis. #\n"
      ],
      "metadata": {
        "id": "eMjvcheRmA8V"
      }
    },
    {
      "cell_type": "markdown",
      "source": [
        "### Q2.1 (10%) Remove missing data. Notice the row on Jalapeno ice cream does not have like it percentage or favorite percentage. Remove any row with missing data.###\n",
        "This was not taught yet in Datacamp. However, as a data engineer you will find yourself needing to learn how to do tasks not previously learned before. Consider searching Google for \"pandas remove missing values\" or \"pandas remove blank rows\"."
      ],
      "metadata": {
        "id": "4sM3CCG7kjvF"
      }
    },
    {
      "cell_type": "code",
      "source": [
        "# --- put your answer below ---\n",
        "cleaned_ice_cream = ice_cream.dropna()"
      ],
      "metadata": {
        "id": "ZRZ9CwSGk6RW"
      },
      "execution_count": null,
      "outputs": []
    },
    {
      "cell_type": "markdown",
      "source": [
        "### Q2.2 (10%) Capitalize all the ice cream flavor names. Each word should start with a capital letter, e.g. \"rocky road\" should become \"Rocky Road\". Print the contents of the Ice_Cream_Flavors column to show you were successful.###\n",
        "This was not taught in Datacamp. However, as a data engineer you will find yourself needing to learn how to do tasks not previously learned before. Consider searching Google for \"how to capitalize first letter in a word in pandas dataframe\" or \"capitalize first letter of each word in pandas\"."
      ],
      "metadata": {
        "id": "Icu2o2hBlB4d"
      }
    },
    {
      "cell_type": "code",
      "source": [
        "# --- put your answer below ---\n",
        "cleaned_ice_cream.Ice_Cream_Flavor = cleaned_ice_cream.Ice_Cream_Flavor.str.title()\n",
        "print(cleaned_ice_cream.Ice_Cream_Flavor)"
      ],
      "metadata": {
        "id": "qa4Mwkk9l7j2",
        "colab": {
          "base_uri": "https://localhost:8080/"
        },
        "outputId": "85014d06-f0be-4720-c63a-9d22b0ce152e"
      },
      "execution_count": null,
      "outputs": [
        {
          "output_type": "stream",
          "name": "stdout",
          "text": [
            "0                           Peach\n",
            "1                    Butterscotch\n",
            "2                  Chocolate Chip\n",
            "3                       Chocolate\n",
            "4                         Vanilla\n",
            "5                          Coffee\n",
            "6                         Caramel\n",
            "7                   Peanut Butter\n",
            "8                      Neopolitan\n",
            "9                          Cherry\n",
            "10    Chocolate Chip Cookie Dough\n",
            "11                  Birthday Cake\n",
            "12                      Raspberry\n",
            "13                    Cake Batter\n",
            "14                     Rocky Road\n",
            "15                      Pistachio\n",
            "0                      Strawberry\n",
            "1         Chocolate Peanut Butter\n",
            "2                    Butter Pecan\n",
            "3               Cookies And Cream\n",
            "4             Mint Chocolate Chip\n",
            "Name: Ice_Cream_Flavor, dtype: object\n"
          ]
        },
        {
          "output_type": "stream",
          "name": "stderr",
          "text": [
            "<ipython-input-74-583f64d0767b>:2: SettingWithCopyWarning: \n",
            "A value is trying to be set on a copy of a slice from a DataFrame.\n",
            "Try using .loc[row_indexer,col_indexer] = value instead\n",
            "\n",
            "See the caveats in the documentation: https://pandas.pydata.org/pandas-docs/stable/user_guide/indexing.html#returning-a-view-versus-a-copy\n",
            "  cleaned_ice_cream.Ice_Cream_Flavor = cleaned_ice_cream.Ice_Cream_Flavor.str.title()\n"
          ]
        }
      ]
    },
    {
      "cell_type": "markdown",
      "source": [
        "### Q2.3 (10%) Remove the % character from the values in \"Like_It_Percentage\" and \"Favorite_Percentage\". And, print the contents of the dataframe to show you were successful.###\n",
        "For example, the value 35% becomes just 35. We don't need the % character. We just want the integers. Consider searching Google for \"how to remove the last character from pandas column\"."
      ],
      "metadata": {
        "id": "XwHMqqNinT0D"
      }
    },
    {
      "cell_type": "code",
      "source": [
        "# --- put your answer below ---\n",
        "cleaned_ice_cream['Like_It_Percentage'] = cleaned_ice_cream['Like_It_Percentage'].str.replace('%','')\n",
        "cleaned_ice_cream['Favorite_Percentage'] = cleaned_ice_cream['Favorite_Percentage'].str.replace('%','')\n",
        "print(cleaned_ice_cream)"
      ],
      "metadata": {
        "id": "Mb3VEQbKoGQx",
        "colab": {
          "base_uri": "https://localhost:8080/"
        },
        "outputId": "2a424a65-b55a-498f-98db-ac3f6b88dc56"
      },
      "execution_count": null,
      "outputs": [
        {
          "output_type": "stream",
          "name": "stdout",
          "text": [
            "               Ice_Cream_Flavor Like_It_Percentage Favorite_Percentage\n",
            "0                         Peach                 22                   1\n",
            "1                  Butterscotch                 16                   1\n",
            "2                Chocolate Chip                 39                   2\n",
            "3                     Chocolate                 51                  10\n",
            "4                       Vanilla                 59                  11\n",
            "5                        Coffee                 23                   5\n",
            "6                       Caramel                 33                   3\n",
            "7                 Peanut Butter                 21                   2\n",
            "8                    Neopolitan                 30                   2\n",
            "9                        Cherry                 23                   2\n",
            "10  Chocolate Chip Cookie Dough                 34                   6\n",
            "11                Birthday Cake                 20                   2\n",
            "12                    Raspberry                 18                   1\n",
            "13                  Cake Batter                 15                   1\n",
            "14                   Rocky Road                 29                   4\n",
            "15                    Pistachio                 23                   4\n",
            "0                    Strawberry                 43                   6\n",
            "1       Chocolate Peanut Butter                 26                   5\n",
            "2                  Butter Pecan                 35                   8\n",
            "3             Cookies And Cream                 43                   7\n",
            "4           Mint Chocolate Chip                 33                   9\n"
          ]
        },
        {
          "output_type": "stream",
          "name": "stderr",
          "text": [
            "<ipython-input-75-325c29b4411f>:2: SettingWithCopyWarning: \n",
            "A value is trying to be set on a copy of a slice from a DataFrame.\n",
            "Try using .loc[row_indexer,col_indexer] = value instead\n",
            "\n",
            "See the caveats in the documentation: https://pandas.pydata.org/pandas-docs/stable/user_guide/indexing.html#returning-a-view-versus-a-copy\n",
            "  cleaned_ice_cream['Like_It_Percentage'] = cleaned_ice_cream['Like_It_Percentage'].str.replace('%','')\n",
            "<ipython-input-75-325c29b4411f>:3: SettingWithCopyWarning: \n",
            "A value is trying to be set on a copy of a slice from a DataFrame.\n",
            "Try using .loc[row_indexer,col_indexer] = value instead\n",
            "\n",
            "See the caveats in the documentation: https://pandas.pydata.org/pandas-docs/stable/user_guide/indexing.html#returning-a-view-versus-a-copy\n",
            "  cleaned_ice_cream['Favorite_Percentage'] = cleaned_ice_cream['Favorite_Percentage'].str.replace('%','')\n"
          ]
        }
      ]
    },
    {
      "cell_type": "markdown",
      "source": [
        "### Q2.4 (10%) List the data so we know the most favorite to least faavorite ice cream flavors. Sort the data based by the highest liked percentage to the lowest liked percentage. If there is a tie, secondarily sort by those who say the ice cream is their favorite. Print the sorted dataframe.###"
      ],
      "metadata": {
        "id": "N_NG3Gyhp0gu"
      }
    },
    {
      "cell_type": "code",
      "source": [
        "# --- put your answer below ---\n",
        "cleaned_ice_cream['Like_It_Percentage'] = cleaned_ice_cream['Like_It_Percentage'].astype(int)\n",
        "cleaned_ice_cream['Favorite_Percentage'] = cleaned_ice_cream['Favorite_Percentage'].astype(int)\n",
        "sorted_ice_cream = cleaned_ice_cream.sort_values(by=['Favorite_Percentage','Like_It_Percentage'], ascending=False)\n",
        "print(sorted_ice_cream)"
      ],
      "metadata": {
        "id": "1ZMOvLkzqZu5",
        "colab": {
          "base_uri": "https://localhost:8080/"
        },
        "outputId": "09a9adc9-4847-4d3c-bab9-57b02b7da1a5"
      },
      "execution_count": null,
      "outputs": [
        {
          "output_type": "stream",
          "name": "stdout",
          "text": [
            "               Ice_Cream_Flavor  Like_It_Percentage  Favorite_Percentage\n",
            "4                       Vanilla                  59                   11\n",
            "3                     Chocolate                  51                   10\n",
            "4           Mint Chocolate Chip                  33                    9\n",
            "2                  Butter Pecan                  35                    8\n",
            "3             Cookies And Cream                  43                    7\n",
            "0                    Strawberry                  43                    6\n",
            "10  Chocolate Chip Cookie Dough                  34                    6\n",
            "1       Chocolate Peanut Butter                  26                    5\n",
            "5                        Coffee                  23                    5\n",
            "14                   Rocky Road                  29                    4\n",
            "15                    Pistachio                  23                    4\n",
            "6                       Caramel                  33                    3\n",
            "2                Chocolate Chip                  39                    2\n",
            "8                    Neopolitan                  30                    2\n",
            "9                        Cherry                  23                    2\n",
            "7                 Peanut Butter                  21                    2\n",
            "11                Birthday Cake                  20                    2\n",
            "0                         Peach                  22                    1\n",
            "12                    Raspberry                  18                    1\n",
            "1                  Butterscotch                  16                    1\n",
            "13                  Cake Batter                  15                    1\n"
          ]
        },
        {
          "output_type": "stream",
          "name": "stderr",
          "text": [
            "<ipython-input-76-a94feecb6a7b>:2: SettingWithCopyWarning: \n",
            "A value is trying to be set on a copy of a slice from a DataFrame.\n",
            "Try using .loc[row_indexer,col_indexer] = value instead\n",
            "\n",
            "See the caveats in the documentation: https://pandas.pydata.org/pandas-docs/stable/user_guide/indexing.html#returning-a-view-versus-a-copy\n",
            "  cleaned_ice_cream['Like_It_Percentage'] = cleaned_ice_cream['Like_It_Percentage'].astype(int)\n",
            "<ipython-input-76-a94feecb6a7b>:3: SettingWithCopyWarning: \n",
            "A value is trying to be set on a copy of a slice from a DataFrame.\n",
            "Try using .loc[row_indexer,col_indexer] = value instead\n",
            "\n",
            "See the caveats in the documentation: https://pandas.pydata.org/pandas-docs/stable/user_guide/indexing.html#returning-a-view-versus-a-copy\n",
            "  cleaned_ice_cream['Favorite_Percentage'] = cleaned_ice_cream['Favorite_Percentage'].astype(int)\n"
          ]
        }
      ]
    },
    {
      "cell_type": "markdown",
      "source": [
        "### Q2.5 (10%) Filter out any ice cream flavors with a like it percentage less than 20%, keep those with a value of 20% and above. Store the new dataset in a dataframe called \"top_ice_creams\". Print the new dataframe.##"
      ],
      "metadata": {
        "id": "-XFEilnCqmU3"
      }
    },
    {
      "cell_type": "code",
      "source": [
        "# --- put your answer below ---\n",
        "top_ice_creams = sorted_ice_cream[(sorted_ice_cream['Like_It_Percentage']>19)]\n",
        "print(top_ice_creams)"
      ],
      "metadata": {
        "id": "rC5H1mbZq4Rd",
        "colab": {
          "base_uri": "https://localhost:8080/"
        },
        "outputId": "8c588646-287b-42e7-fef3-9336f6e09925"
      },
      "execution_count": null,
      "outputs": [
        {
          "output_type": "stream",
          "name": "stdout",
          "text": [
            "               Ice_Cream_Flavor  Like_It_Percentage  Favorite_Percentage\n",
            "4                       Vanilla                  59                   11\n",
            "3                     Chocolate                  51                   10\n",
            "4           Mint Chocolate Chip                  33                    9\n",
            "2                  Butter Pecan                  35                    8\n",
            "3             Cookies And Cream                  43                    7\n",
            "0                    Strawberry                  43                    6\n",
            "10  Chocolate Chip Cookie Dough                  34                    6\n",
            "1       Chocolate Peanut Butter                  26                    5\n",
            "5                        Coffee                  23                    5\n",
            "14                   Rocky Road                  29                    4\n",
            "15                    Pistachio                  23                    4\n",
            "6                       Caramel                  33                    3\n",
            "2                Chocolate Chip                  39                    2\n",
            "8                    Neopolitan                  30                    2\n",
            "9                        Cherry                  23                    2\n",
            "7                 Peanut Butter                  21                    2\n",
            "11                Birthday Cake                  20                    2\n",
            "0                         Peach                  22                    1\n"
          ]
        }
      ]
    },
    {
      "cell_type": "markdown",
      "metadata": {
        "id": "BgS7mdxr2-Ps"
      },
      "source": [
        "# Question Three (20%) #\n",
        "###Create a simple bar graph of the top 20 ice cream flavors. Put the ice cream flavors on the x-axis and the like it percentage on the y-axis. Show the bar graph.###\n",
        "Consider searching Google with \"pandas bar chart\" or \"pandas plot\".\n"
      ]
    },
    {
      "cell_type": "code",
      "source": [],
      "metadata": {
        "id": "wy95z-k9TrCz"
      },
      "execution_count": null,
      "outputs": []
    },
    {
      "cell_type": "code",
      "source": [
        "# -- put your answer below ---\n",
        "import matplotlib.pyplot as plt\n",
        "top_20 = sorted_ice_cream[(sorted_ice_cream['Like_It_Percentage']>15)]\n",
        "top_20.plot(x=\"Ice_Cream_Flavor\", y=\"Like_It_Percentage\",kind='bar')\n",
        "\n"
      ],
      "metadata": {
        "id": "vU68YvCLslmT",
        "colab": {
          "base_uri": "https://localhost:8080/",
          "height": 659
        },
        "outputId": "2645150e-e69a-454f-80df-7d259a624f32"
      },
      "execution_count": null,
      "outputs": [
        {
          "output_type": "execute_result",
          "data": {
            "text/plain": [
              "<Axes: xlabel='Ice_Cream_Flavor'>"
            ]
          },
          "metadata": {},
          "execution_count": 94
        },
        {
          "output_type": "display_data",
          "data": {
            "text/plain": [
              "<Figure size 640x480 with 1 Axes>"
            ],
            "image/png": "[encoded data removed]"
          },
          "metadata": {}
        }
      ]
    },
    {
      "cell_type": "markdown",
      "source": [
        "### The End. Congrats on importing and cleaning data, with a simple data visualization at the end. ###\n",
        "If you need help, reach out to the CIS tutors or the professor."
      ],
      "metadata": {
        "id": "LVH4czhasppO"
      }
    }
  ]
}