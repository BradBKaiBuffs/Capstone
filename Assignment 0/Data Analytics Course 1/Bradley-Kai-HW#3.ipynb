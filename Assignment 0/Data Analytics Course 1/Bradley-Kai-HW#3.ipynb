{
 "cells": [
  {
   "cell_type": "markdown",
   "metadata": {},
   "source": [
    "## <font color=blue>  Homework #3: Querying and plotting Multivariate data </font>\n",
    "\n",
    "## Total Points  : 80  \n",
    "### <font color=red> Due: Tuesday 03/29/2022 11:59 PM </font>\n",
    "### Objective : Assess your ability to use multivariate data plotting techniques\n",
    "\n",
    "#### Skills needed:  In this homework assignment, you'll be using the concepts you've learned to\n",
    "1. Edit and run  Jupyter notebooks\n",
    "2. Write Python code using `Pandas` and `Matplotlib` packages to :\n",
    "    * import the Pandas and matplotlib packages\n",
    "    * read dataset from file into Pandas dataframe\n",
    "    * index and query the dataframe \n",
    "    * Use color maps\n",
    "    * Map data values to visual variables (colors, sizes, shapes, etc.)\n",
    "    * sort dataframe according to a column values\n",
    "    * Make visiuals using bar and Pie plots with multiple variables \n",
    "    * Use subplots to create juxtaposed multiple displays"
   ]
  },
  {
   "cell_type": "markdown",
   "metadata": {},
   "source": [
    "***\n",
    "Please type your name below"
   ]
  },
  {
   "cell_type": "markdown",
   "metadata": {
    "collapsed": true
   },
   "source": [
    "## <font color=Blue> Your Name: Bradley Kai</font>"
   ]
  },
  {
   "cell_type": "markdown",
   "metadata": {},
   "source": [
    "***"
   ]
  },
  {
   "cell_type": "markdown",
   "metadata": {
    "collapsed": true
   },
   "source": [
    "## Requirements & Submission:\n",
    "1. Use this notebook as a template for your answers. Then rename it and submitted as ipynb (jupyter notebook) \n",
    "2. Submit on WTClass (“Resources >> Assignments >> Homework#3 \n",
    "3. The file name must be your ``first name``+ \"-\"+ ``Last name`` followed by \"-HW3.ipynb\".\n",
    "4. Each task's answer must be after the task description\n",
    "5. Answers and explainations must be properly formatted in the properiate Cell type\n",
    "8. You can add as many cells as you needed\n",
    "9. You should submit final ***clean version*** of your notebook, i.e. remove any experimenting cells\n"
   ]
  },
  {
   "cell_type": "markdown",
   "metadata": {},
   "source": [
    "### Grading <font color = purple> [80 points] </font>\n",
    "1. This assignment contains 3 required tasks (80 total points) \n",
    "    * Task 1: reading the data,  has 10 points\n",
    "    * Task 2: Making Multiple pie-charts using subplots,  has 35 points\n",
    "    * Task 3: Making multiple Bar plots using subplots, has 35 points\n",
    "    \n",
    "1. You'll earn full points for each command that gives the desired output if it follow the rules\n",
    "2. Non-executable commands will get 0 points\n",
    "3. Partial credit will be given for executable non-complete tasks"
   ]
  },
  {
   "cell_type": "markdown",
   "metadata": {},
   "source": [
    "### <font color = darkred> Task 1-[10 points]</font>:<font color=blue> Reading the dataset</font>\n",
    "Import needed libraries and Read the attached csv file (`SalesTotalByRegion.csv`) into a dataframe named as `SalesData`. This dataset shows the total sales of 4 beverage categories (`'Tea', 'Espresso','Coffee','Herbal Tea'`) across 4 regions (`'West','Central','East','South'`)."
   ]
  },
  {
   "cell_type": "markdown",
   "metadata": {},
   "source": [
    "### <font color=Green> Task 1 Answer: </font>"
   ]
  },
  {
   "cell_type": "code",
   "execution_count": 1,
   "metadata": {},
   "outputs": [],
   "source": [
    "import pandas as pd\n",
    "import numpy as np\n",
    "import matplotlib.pyplot as plt\n",
    "%matplotlib inline"
   ]
  },
  {
   "cell_type": "code",
   "execution_count": 2,
   "metadata": {},
   "outputs": [],
   "source": [
    "SalesData = pd.read_csv(\"SalesTotalByRegion.csv\",sep=',',engine='python')"
   ]
  },
  {
   "cell_type": "code",
   "execution_count": 3,
   "metadata": {},
   "outputs": [
    {
     "data": {
      "text/html": [
       "<div>\n",
       "<style scoped>\n",
       "    .dataframe tbody tr th:only-of-type {\n",
       "        vertical-align: middle;\n",
       "    }\n",
       "\n",
       "    .dataframe tbody tr th {\n",
       "        vertical-align: top;\n",
       "    }\n",
       "\n",
       "    .dataframe thead th {\n",
       "        text-align: right;\n",
       "    }\n",
       "</style>\n",
       "<table border=\"1\" class=\"dataframe\">\n",
       "  <thead>\n",
       "    <tr style=\"text-align: right;\">\n",
       "      <th></th>\n",
       "      <th>Region</th>\n",
       "      <th>Tea</th>\n",
       "      <th>Espresso</th>\n",
       "      <th>Coffee</th>\n",
       "      <th>Herbal Tea</th>\n",
       "    </tr>\n",
       "  </thead>\n",
       "  <tbody>\n",
       "    <tr>\n",
       "      <th>0</th>\n",
       "      <td>West</td>\n",
       "      <td>35338</td>\n",
       "      <td>34200</td>\n",
       "      <td>28306</td>\n",
       "      <td>35391</td>\n",
       "    </tr>\n",
       "    <tr>\n",
       "      <th>1</th>\n",
       "      <td>Central</td>\n",
       "      <td>33451</td>\n",
       "      <td>29206</td>\n",
       "      <td>33808</td>\n",
       "      <td>33215</td>\n",
       "    </tr>\n",
       "    <tr>\n",
       "      <th>2</th>\n",
       "      <td>East</td>\n",
       "      <td>15745</td>\n",
       "      <td>23672</td>\n",
       "      <td>27740</td>\n",
       "      <td>20241</td>\n",
       "    </tr>\n",
       "    <tr>\n",
       "      <th>3</th>\n",
       "      <td>South</td>\n",
       "      <td>0</td>\n",
       "      <td>22008</td>\n",
       "      <td>16280</td>\n",
       "      <td>12558</td>\n",
       "    </tr>\n",
       "  </tbody>\n",
       "</table>\n",
       "</div>"
      ],
      "text/plain": [
       "    Region    Tea  Espresso  Coffee  Herbal Tea\n",
       "0     West  35338     34200   28306       35391\n",
       "1  Central  33451     29206   33808       33215\n",
       "2     East  15745     23672   27740       20241\n",
       "3    South      0     22008   16280       12558"
      ]
     },
     "execution_count": 3,
     "metadata": {},
     "output_type": "execute_result"
    }
   ],
   "source": [
    "SalesData"
   ]
  },
  {
   "cell_type": "markdown",
   "metadata": {},
   "source": [
    "---------------"
   ]
  },
  {
   "cell_type": "markdown",
   "metadata": {},
   "source": [
    "### <font color = darkred>Task 2-[35 points]</font>  :<font color=blue> Make Pie plots of the variables of the dataset using multiple Juxtaposed displays:</font> \n",
    "Using the dataframe  `SalesData`  write Python code to show the percentage of each category sales in each region as shown in the figure below.\n",
    "\n",
    "* Your plot must have all the componenet in the figure below (i.e. titles, lables, legends, text, etc.)\n",
    "* You must use subplot/sublots to make the juxtaposed plots in the given arrangement \n",
    "* it is up to you to choose the appropriate figure size, colors, and other properties."
   ]
  },
  {
   "cell_type": "markdown",
   "metadata": {},
   "source": [
    "<img src=\"Task2Fig.jpg\" width=\"750\" height=\"250\">"
   ]
  },
  {
   "cell_type": "markdown",
   "metadata": {},
   "source": [
    "### <font color=Green> Task 2 Answer: </font>"
   ]
  },
  {
   "cell_type": "code",
   "execution_count": 4,
   "metadata": {},
   "outputs": [],
   "source": [
    "# colors\n",
    "colors = ['peachpuff','pink','palegreen','lightskyblue']\n",
    "\n",
    "# cut out region column for calculation\n",
    "noRegion = SalesData.iloc[:,[1,2,3,4]]\n",
    "\n",
    "# sum totals for each category column\n",
    "salesTotal = np.sum(noRegion,axis=1).tolist()\n",
    "\n",
    "# add new column with sales totals for each region\n",
    "SalesData['Total Sales'] = salesTotal\n",
    "\n",
    "# create lists to hold % values\n",
    "wlist = []\n",
    "clist = []\n",
    "elist = []\n",
    "slist = []\n",
    "\n",
    "# run for loop across rows to calculate element value by Total Sales to get percentage\n",
    "# west\n",
    "westRow = noRegion.iloc[0,:].tolist()\n",
    "for i in westRow:\n",
    "    ans = i / SalesData.iloc[0,5]\n",
    "    wlist.append(ans)\n",
    "    \n",
    "# central\n",
    "centralRow = noRegion.iloc[1,:].tolist()\n",
    "for i in centralRow:\n",
    "    ans = i / SalesData.iloc[1,5]\n",
    "    clist.append(ans)\n",
    "    \n",
    "# east\n",
    "eastRow = noRegion.iloc[2,:].tolist()\n",
    "for i in eastRow:\n",
    "    ans = i / SalesData.iloc[2,5]\n",
    "    elist.append(ans)\n",
    "    \n",
    "# south\n",
    "southRow = noRegion.iloc[3,:].tolist()\n",
    "for i in southRow:\n",
    "    ans = i / SalesData.iloc[3,5]\n",
    "    slist.append(ans)\n",
    "\n",
    "# add columns generated from for loop lists\n",
    "data = {'Tea':[1,2,3,4],'Espresso':[1,2,3,4],'Coffee':[1,2,3,4],'Herbal Tea':[1,2,3,4]}\n",
    "\n",
    "# cleaner to just create a new df\n",
    "pct = pd.DataFrame(data)\n",
    "\n",
    "i = 0\n",
    "while i < 4:\n",
    "    j = 0\n",
    "    while j < 4:\n",
    "        if i == 0:\n",
    "            pct.iloc[i,j] = wlist[j]\n",
    "        elif i== 1:\n",
    "            pct.iloc[i,j] = clist[j]\n",
    "        elif i== 2:\n",
    "            pct.iloc[i,j] = elist[j]\n",
    "        elif i==3:\n",
    "            pct.iloc[i,j] = slist[j]\n",
    "        else:\n",
    "            print(\"Something broke\")\n",
    "        j+=1\n",
    "    i+=1\n",
    "    "
   ]
  },
  {
   "cell_type": "code",
   "execution_count": 5,
   "metadata": {
    "scrolled": true
   },
   "outputs": [
    {
     "data": {
      "image/png": "[encoded data removed]",
      "text/plain": [
       "<Figure size 936x720 with 4 Axes>"
      ]
     },
     "metadata": {},
     "output_type": "display_data"
    }
   ],
   "source": [
    "#create subplot\n",
    "fig = plt.figure(figsize = (13,10))\n",
    "\n",
    "# west pie\n",
    "wplot = plt.subplot(4,4,1)\n",
    "w = wplot.pie(pct[:].iloc[0],colors=colors,autopct='%1.1f%%')\n",
    "wplot.set_title(\"West\")\n",
    "\n",
    "# central pie\n",
    "cplot = plt.subplot(4,4,2)                      \n",
    "c = cplot.pie(pct[:].iloc[1],colors=colors,autopct='%1.1f%%')\n",
    "cplot.set_title(\"Central\")\n",
    "\n",
    "# east pie\n",
    "eplot = plt.subplot(4,4,3)                      \n",
    "e = eplot.pie(pct[:].iloc[2],colors=colors,autopct='%1.1f%%')\n",
    "eplot.set_title(\"East\")\n",
    "\n",
    "# south pie\n",
    "splot = plt.subplot(4,4,4)                      \n",
    "s = splot.pie(pct[:].iloc[3],colors=colors,autopct='%1.1f%%')\n",
    "splot.set_title(\"South\")\n",
    "\n",
    "# adjust position of subplots\n",
    "fig.tight_layout(rect=[0,-0.15,1,0.95])\n",
    "\n",
    "#title\n",
    "plt.suptitle(\"Percentage of category sales in each region\")\n",
    "\n",
    "# legend\n",
    "plt.legend(title=\"Categories\",labels=pct.loc[:,],ncol=4,borderaxespad=10, bbox_to_anchor=[0.1,0.5])\n",
    "\n",
    "# show subplots\n",
    "plt.show()\n"
   ]
  },
  {
   "cell_type": "markdown",
   "metadata": {},
   "source": [
    "### <font color = darkred>Task 3-[35 points]</font>  :<font color=blue> Make bar plots of the variables of the dataset using multiple Juxtaposed displays:</font> \n",
    "Using the dataframe  `SalesData`  write Python code to show the total sales of each category in each region as shown in the figure below.\n",
    "\n",
    "* Your plot must have all the componenet in the figure below (i.e. titles, lables, text, etc.)\n",
    "* You must use subplot/sublots to make the juxtaposed plots in the given arrangement, and make them share the y axis lables on the left subblot \n",
    "* it is up to you to choose the appropriate figure size, colors, and other properties."
   ]
  },
  {
   "cell_type": "markdown",
   "metadata": {},
   "source": [
    "<img src=\"Task3Fig.jpg\" width=\"780\" height=\"300\">"
   ]
  },
  {
   "cell_type": "markdown",
   "metadata": {},
   "source": [
    "## <font color=Green> Task 3 Answer: </font>"
   ]
  },
  {
   "cell_type": "code",
   "execution_count": 6,
   "metadata": {},
   "outputs": [
    {
     "data": {
      "image/png": "[encoded data removed]",
      "text/plain": [
       "<Figure size 756x288 with 4 Axes>"
      ]
     },
     "metadata": {
      "needs_background": "light"
     },
     "output_type": "display_data"
    }
   ],
   "source": [
    "# create subplot\n",
    "fig, subplts = plt.subplots(1,4, figsize = (10.5,4), sharey='row')\n",
    "cols = SalesData.columns\n",
    "\n",
    "# flatten for for loop\n",
    "mysubplts = subplts.flatten()\n",
    "\n",
    "# for loop to create bar subplots\n",
    "for i in [1,2,3,4]:\n",
    "    subplt = plt.subplot(1,4,i)\n",
    "    sbar=subplt.bar(SalesData['Region'],SalesData.loc[:,cols[i]],color=colors)\n",
    "    subplt.set_title(cols[i])\n",
    "\n",
    "# space 2.5    \n",
    "fig.tight_layout(pad = 2.5)\n",
    "\n",
    "# title\n",
    "fig.suptitle(\"Sales of each category by region\",y=1.05)\n",
    "\n",
    "# show plot\n",
    "plt.show()"
   ]
  },
  {
   "cell_type": "code",
   "execution_count": null,
   "metadata": {},
   "outputs": [],
   "source": []
  }
 ],
 "metadata": {
  "kernelspec": {
   "display_name": "Python 3 (ipykernel)",
   "language": "python",
   "name": "python3"
  },
  "language_info": {
   "codemirror_mode": {
    "name": "ipython",
    "version": 3
   },
   "file_extension": ".py",
   "mimetype": "text/x-python",
   "name": "python",
   "nbconvert_exporter": "python",
   "pygments_lexer": "ipython3",
   "version": "3.9.7"
  }
 },
 "nbformat": 4,
 "nbformat_minor": 2
}
